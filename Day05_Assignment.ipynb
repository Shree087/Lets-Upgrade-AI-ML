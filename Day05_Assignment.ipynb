{
 "cells": [
  {
   "cell_type": "code",
   "execution_count": 76,
   "metadata": {},
   "outputs": [
    {
     "name": "stdout",
     "output_type": "stream",
     "text": [
      "Lower case of string: shrikant khairnar\n",
      "Returns occurances of substring in string : 3\n",
      "Converts to cases folded string: shrikant khairnar\n",
      "Returns the index of first occurrence of substring: 3\n",
      "Checks if string End with the specific Suffix:  True\n",
      "Converts first character to Capital character:  Shrikant khairnar\n",
      "Replace tab character with spaces: xyz     12345   abc\n",
      "Returns a copy of the string Padedd with zeros: 00shreeraj\n",
      "Checks digit characters: False\n",
      "Returns a Tuple ('SHRIKANT ', 'KHAIRNAR', '')\n",
      "Replaces substring inside:  SHREERAJ KHAIRNAR\n",
      "Checks Whitespace Character:  False\n",
      "Checks for valid identifier: True\n",
      "Checks printable characher: True\n"
     ]
    }
   ],
   "source": [
    "# Question 2 :\n",
    "# Write a Python program to implement 15 functions of string.\n",
    "\n",
    "Name = \"SHRIKANT KHAIRNAR\"\n",
    "Name1 = \"shreeraj\"\n",
    "text = \"xyz\\t12345\\tabc\"\n",
    "\n",
    "print(\"Lower case of string:\",Name.lower())\n",
    "\n",
    "print(\"Returns occurances of substring in string :\",Name.count(\"R\"))\n",
    "\n",
    "print(\"Converts to cases folded string:\",Name.casefold())\n",
    "\n",
    "print(\"Returns the index of first occurrence of substring:\",Name.find('I'))\n",
    "\n",
    "print(\"Checks if string End with the specific Suffix: \",Name.endswith('KHAIRNAR'))\n",
    "\n",
    "print(\"Converts first character to Capital character: \",Name.capitalize())\n",
    "\n",
    "print(\"Replace tab character with spaces:\",text.expandtabs())\n",
    "\n",
    "print(\"Returns a copy of the string Padedd with zeros:\",Name1.zfill(10))\n",
    "\n",
    "print(\"Checks digit characters:\",Name1.isdigit())\n",
    "\n",
    "print(\"Returns a Tuple\",Name.partition('KHAIRNAR'))\n",
    "\n",
    "print(\"Replaces substring inside: \",Name.replace('SHRIKANT','SHREERAJ'))\n",
    "\n",
    "print(\"Checks Whitespace Character: \",text.isspace())\n",
    "\n",
    "print(\"Checks for valid identifier:\",Name1.isidentifier())\n",
    "\n",
    "print(\"Checks printable characher:\",Name.isprintable())"
   ]
  },
  {
   "cell_type": "code",
   "execution_count": 4,
   "metadata": {},
   "outputs": [
    {
     "name": "stdout",
     "output_type": "stream",
     "text": [
      "Enter the number between 1 to 3:3\n",
      "User don't want perform any operation.\n"
     ]
    }
   ],
   "source": [
    "# Question 3:\n",
    "# Write a Python program to check if the given string is a Palindrome or Anagram or None of them.\n",
    "# Display the message accordingly to the user.\n",
    "\n",
    "UserText = input(\"Enter the number between 1 to 3:\")\n",
    "# print(\"Please entered number betweet 1 to 3: \",UserText)\n",
    "\n",
    "if UserText == \"1\":\n",
    "    print(\"User verify Palindrom option.\")\n",
    "    paliStr = input(\"User entered for Palindrom option:\")\n",
    "    if paliStr == paliStr[::-1]:\n",
    "        print(\"Entered string or number is Palindrom:\",paliStr)\n",
    "    else:\n",
    "        print(\"Entered string ornumber is not Palindrom:\",paliStr)\n",
    "elif UserText == \"2\":\n",
    "    print(\"User select the Anagram option\")\n",
    "    str1 = input(\"Enter first string:\")\n",
    "    str2 = input(\"Enter second string:\")\n",
    "    if (sorted(str1)== sorted(str2)):\n",
    "        print(\"The string are Anagrams:\")\n",
    "    else:\n",
    "        print(\"The string are not Anagrams:\")\n",
    "else:\n",
    "    print(\"User don't want perform any operation.\")"
   ]
  },
  {
   "cell_type": "code",
   "execution_count": 17,
   "metadata": {},
   "outputs": [
    {
     "name": "stdout",
     "output_type": "stream",
     "text": [
      "shrikantkhairnaraimllearner\n"
     ]
    }
   ],
   "source": [
    "# Question 4:\n",
    "# Write a Python's user defined function that removes all the additional characters from the string\n",
    "# and converts it finally to lower case using built-in lower(). eg: If the string is \"Dr. Darshan Ingle\n",
    "# @AI-ML Trainer\", then the output be \"drdarshaningleaimltrainer\"\n",
    "\n",
    "strName = \"SHRIKANT KHAIRNAR @AI-ML LEARNER\"\n",
    "newStr = strName.lower().replace(\" \",\"\").replace('-',\"\").replace('@',\"\")\n",
    "print(newStr)\n",
    "\n",
    "\n",
    "\n",
    "\n"
   ]
  },
  {
   "cell_type": "code",
   "execution_count": 41,
   "metadata": {},
   "outputs": [
    {
     "name": "stdout",
     "output_type": "stream",
     "text": [
      "Find prime numbers upto : 100\n",
      "\n",
      "All prime numbers upto 100 are : \n",
      "3 5 7 11 13 17 19 23 29 31 37 41 43 47 53 59 61 67 71 "
     ]
    }
   ],
   "source": [
    "# Question 1 :\n",
    "# Write a Python program to find the first 20 non-even prime natural numbers\n",
    "\n",
    "\n",
    "upto = int(input(\"Find prime numbers upto : \"))\n",
    "print(\"\\nAll prime numbers upto\", upto, \"are : \")\n",
    "cnt = 0\n",
    "for num in range(2, upto + 1):\n",
    "    i = 2\n",
    "    for i in range(2, num):\n",
    "        if(num % i == 0):\n",
    "            i = num\n",
    "            break;\n",
    "\n",
    "    # If the number is prime then print it.\n",
    "    if(i != num):\n",
    "        cnt = cnt + 1\n",
    "        if(cnt == 20):\n",
    "            break;\n",
    "        print(num, end=\" \")"
   ]
  }
 ],
 "metadata": {
  "kernelspec": {
   "display_name": "Python 3",
   "language": "python",
   "name": "python3"
  },
  "language_info": {
   "codemirror_mode": {
    "name": "ipython",
    "version": 3
   },
   "file_extension": ".py",
   "mimetype": "text/x-python",
   "name": "python",
   "nbconvert_exporter": "python",
   "pygments_lexer": "ipython3",
   "version": "3.7.6"
  }
 },
 "nbformat": 4,
 "nbformat_minor": 4
}
