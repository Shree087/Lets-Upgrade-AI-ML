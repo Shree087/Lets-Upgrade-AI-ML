{
 "cells": [
  {
   "cell_type": "code",
   "execution_count": 50,
   "metadata": {},
   "outputs": [
    {
     "name": "stdout",
     "output_type": "stream",
     "text": [
      "Addition of two complex number is:  (7+7j)\n",
      "Subtraction of two complex number is:  (3+1j)\n",
      "Multiplication of two complex number is:  (-2+23j)\n",
      "Division of two complex number is:  (1.6923076923076923-0.5384615384615385j)\n",
      "Modular integer division operator of two complex number is:  (0.3846153846153847+0.3076923076923077j)\n"
     ]
    }
   ],
   "source": [
    "# Question 1 :\n",
    "# Research on whether addition, subtraction, multiplication, division, floor division and modulo\n",
    "# operations be performed on complex numbers. Based on your study, implement a Python\n",
    "# program to demonstrate these operations.\n",
    "\n",
    "complexNumber01 = 5 + 4j\n",
    "complexNumber02 = 2 + 3j\n",
    "\n",
    "print(\"Addition of two complex number is: \",complexNumber01 + complexNumber02)\n",
    "print(\"Subtraction of two complex number is: \",complexNumber01 - complexNumber02)\n",
    "print(\"Multiplication of two complex number is: \",complexNumber01 * complexNumber02)\n",
    "print(\"Division of two complex number is: \",complexNumber01 / complexNumber02)\n",
    "print(\"Modular integer division operator of two complex number is: \",complexNumber01 /abs(complexNumber02)**2)"
   ]
  },
  {
   "cell_type": "code",
   "execution_count": 63,
   "metadata": {},
   "outputs": [
    {
     "name": "stdout",
     "output_type": "stream",
     "text": [
      "10 11 12 13 14 15 16 17 18 19 20 \n",
      "Greater number list is:  [26, 27, 28, 29]\n",
      "Smaller number list is:  [15, 16, 17, 18, 19, 20, 21, 22, 23, 24, 25]\n",
      "50\n",
      "150\n",
      "250\n",
      "350\n",
      "450\n"
     ]
    }
   ],
   "source": [
    "# Question 2 :\n",
    "# Research on range() functions and its parameters. Create a markdown cell and write in your own\n",
    "# words (no copy-paste from google please) what you understand about it. Implement a small\n",
    "# program of your choice on the same.\n",
    "\n",
    "# Range function: This function mostly used for to \"Returns a sequance of numbers (Value are fixed)\".\n",
    "# Range function mostly divided into three parts i.e.\n",
    "# 1. range(Stop value): Default considers the start point as zero.\n",
    "# 2. range (Start_value, Stop_value): Grenerate the sequance based on the start and stop value.\n",
    "# 3. range (Start_value, Stop_value, Step_value): Generate the sequance by incrementing the start value using the step\n",
    "# size until it reaches the stop value.\n",
    "\n",
    "type(range(100))\n",
    "    \n",
    "for seq in range(10,21):\n",
    "    print(seq,end=\" \")\n",
    "    \n",
    "# Programe for create range value and search greater than number is available in list\n",
    "greaterNo = []\n",
    "smallerNo = []\n",
    "for i in range(15,30):\n",
    "    if i > 25:\n",
    "        greaterNo.append(i)\n",
    "    else:\n",
    "        smallerNo.append(i)\n",
    "\n",
    "print(\"\\nGreater number list is: \",greaterNo)\n",
    "print(\"Smaller number list is: \",smallerNo)\n",
    "\n",
    "for seq in range(50,500,100):\n",
    "    print(seq)\n"
   ]
  },
  {
   "cell_type": "code",
   "execution_count": 42,
   "metadata": {},
   "outputs": [
    {
     "name": "stdout",
     "output_type": "stream",
     "text": [
      "Subtracation Result is: 20\n",
      "Division of first & second number: 1.8\n"
     ]
    }
   ],
   "source": [
    "# Question 3:\n",
    "# Consider two numbers. Perform their subtraction and if the result of subtraction is greater than\n",
    "# 25, print their multiplication result else print their division result.\n",
    "\n",
    "number1 = 45\n",
    "number2 = 25\n",
    "\n",
    "SubResult = number1 - number2\n",
    "print(\"Subtracation Result is:\",SubResult)\n",
    "if SubResult > 25:\n",
    "    print(\"Multiplication of first & second number: \",number1 * number2)\n",
    "else:\n",
    "    print(\"Division of first & second number:\",number1 / number2)\n"
   ]
  },
  {
   "cell_type": "code",
   "execution_count": 66,
   "metadata": {},
   "outputs": [
    {
     "name": "stdout",
     "output_type": "stream",
     "text": [
      "Divisible by 2 Number is: 10  & square of that number minus 2 is:  98\n",
      "Divisible by 2 Number is: 20  & square of that number minus 2 is:  398\n",
      "Divisible by 2 Number is: 22  & square of that number minus 2 is:  482\n",
      "Divisible by 2 Number is: 2  & square of that number minus 2 is:  2\n"
     ]
    }
   ],
   "source": [
    "# Question 4:\n",
    "# Consider a list of 10 elements of integer values. If the number in the list is divisible by 2, print the\n",
    "# result as \"square of that number minus 2\"\n",
    "\n",
    "lst = [10,20,15,22,5,2,13,45,99]\n",
    "for i in lst:\n",
    "    if (i % 2) == 0:\n",
    "         print(\"Divisible by 2 Number is:\",i,\" & square of that number minus 2 is: \",i**2-2)\n",
    "#     else:\n",
    "#          print(\"FAIL and Number is:\",i)"
   ]
  },
  {
   "cell_type": "code",
   "execution_count": 67,
   "metadata": {},
   "outputs": [
    {
     "name": "stdout",
     "output_type": "stream",
     "text": [
      "All the numbers in list is:  [2, 5, 9, 11, 14, 25, 36, 78, 65, 99]\n",
      "Greater than 7 number list & also divided by 2:  [25, 36, 78, 65, 99]\n",
      "Less than 7 number list is:  [2, 5, 9, 11, 14]\n"
     ]
    }
   ],
   "source": [
    "# Question 5:\n",
    "# Consider a list of 10 elements. Print all the elements in the list which are greater than 7 when that\n",
    "# number is divided 2.\n",
    "\n",
    "# num_list = list(range(3,16))\n",
    "num_list = [2,5,9,11,14,25,36,78,65,99]\n",
    "print(\"All the numbers in list is: \",num_list)\n",
    "GreaterNo = []\n",
    "LessNo = []\n",
    "for i in num_list:\n",
    "    if i/2>7:\n",
    "#     if i> 7 and i%2==0:\n",
    "        GreaterNo.append(i)\n",
    "    else:\n",
    "        LessNo.append(i)\n",
    "        \n",
    "print(\"Greater than 7 number list & also divided by 2: \",GreaterNo)\n",
    "print(\"Less than 7 number list is: \",LessNo)"
   ]
  }
 ],
 "metadata": {
  "kernelspec": {
   "display_name": "Python 3",
   "language": "python",
   "name": "python3"
  },
  "language_info": {
   "codemirror_mode": {
    "name": "ipython",
    "version": 3
   },
   "file_extension": ".py",
   "mimetype": "text/x-python",
   "name": "python",
   "nbconvert_exporter": "python",
   "pygments_lexer": "ipython3",
   "version": "3.7.6"
  }
 },
 "nbformat": 4,
 "nbformat_minor": 4
}
