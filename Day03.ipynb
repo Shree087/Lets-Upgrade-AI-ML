{
 "cells": [
  {
   "cell_type": "code",
   "execution_count": 70,
   "metadata": {},
   "outputs": [
    {
     "name": "stdout",
     "output_type": "stream",
     "text": [
      "Subtraction of Complex Number answer is:  (3+5j)\n"
     ]
    }
   ],
   "source": [
    "#Day 03 Assignment\n",
    "# Question 01\n",
    "#Combination of Real Number and Imaginary number called Complex Number\n",
    "complexNo1 = 5 + 9j \n",
    "complexNo2 = 2 + 4j\n",
    "ComplexSubtract = complexNo1 - complexNo2\n",
    "print(\"Subtraction of Complex Number answer is: \",ComplexSubtract)"
   ]
  },
  {
   "cell_type": "code",
   "execution_count": 88,
   "metadata": {},
   "outputs": [
    {
     "name": "stdout",
     "output_type": "stream",
     "text": [
      "Fourth root of a number is:  16\n"
     ]
    }
   ],
   "source": [
    "# Question 02\n",
    "# Write a program to find the fourth root of a number.\n",
    "i = 2\n",
    "rootfunc = i**4\n",
    "print(\"Fourth root of a number is: \",rootfunc)\n"
   ]
  },
  {
   "cell_type": "code",
   "execution_count": 72,
   "metadata": {},
   "outputs": [
    {
     "name": "stdout",
     "output_type": "stream",
     "text": [
      "Value of First Number is:  2\n",
      "Value of Sceond Number is:  4\n",
      "Value of Swap Number is:  2\n"
     ]
    }
   ],
   "source": [
    "# Question 03\n",
    "# Write a program to swap two numbers in Python with the help of a temporary variable\n",
    "swapNo1 = 2\n",
    "swapNo2 = 4\n",
    "\n",
    "print(\"Value of First Number is: \",swapNo1)\n",
    "print(\"Value of Sceond Number is: \",swapNo2)\n",
    "\n",
    "swapTemp = swapNo1\n",
    "swapNo1 = swapNo2\n",
    "swapNo2 = swapTemp\n",
    "\n",
    "print(\"Value of Swap Number is: \",swapTemp)\n",
    "\n"
   ]
  },
  {
   "cell_type": "code",
   "execution_count": 75,
   "metadata": {},
   "outputs": [
    {
     "name": "stdout",
     "output_type": "stream",
     "text": [
      "Value of First Number is:  2\n",
      "Value of Sceond Number is:  4\n",
      "Value of Swap Number 1 is:  4 Value of Swap Number 2 is: 2\n"
     ]
    }
   ],
   "source": [
    "# Question 04\n",
    "# Write a program to swap two numbers in Python without using a temporary variable\n",
    "\n",
    "swapNo1 = 2\n",
    "swapNo2 = 4\n",
    "\n",
    "print(\"Value of First Number is: \",swapNo1)\n",
    "print(\"Value of Sceond Number is: \",swapNo2)\n",
    "\n",
    "swapNo1, swapNo2 = swapNo2, swapNo1\n",
    "\n",
    "print(\"Value of Swap Number 1 is: \",swapNo1,\"Value of Swap Number 2 is:\",swapNo2)\n"
   ]
  },
  {
   "cell_type": "code",
   "execution_count": null,
   "metadata": {},
   "outputs": [],
   "source": [
    "# Question 05\n",
    "# Write a program to convert fahrenheit to kelvin and celsius both\n",
    "\n"
   ]
  },
  {
   "cell_type": "code",
   "execution_count": 89,
   "metadata": {},
   "outputs": [
    {
     "name": "stdout",
     "output_type": "stream",
     "text": [
      "<class 'int'>\n",
      "<class 'str'>\n",
      "<class 'float'>\n",
      "<class 'bool'>\n",
      "<class 'list'>\n",
      "<class 'tuple'>\n"
     ]
    }
   ],
   "source": [
    "# Question 06\n",
    "# Write a program to demonstrate all the available data types in Python. Hint: Use type() function\n",
    "\n",
    "dataType1 = 12345\n",
    "print(type(dataType1))\n",
    "\n",
    "dataType2 = \"12345\"\n",
    "print(type(dataType2))\n",
    "\n",
    "dataType3 = 95.50\n",
    "print(type(dataType3))\n",
    "\n",
    "dataType4 = True\n",
    "print(type(dataType4))\n",
    "\n",
    "dataType5 = [\"Shrikant\",\"Shree\",\"Shreeraj\"]\n",
    "print(type(dataType5))\n",
    "\n",
    "dataType6 = (\"Shrikant\",\"Shree\",\"Shreeraj\")\n",
    "print(type(dataType6))\n"
   ]
  },
  {
   "cell_type": "markdown",
   "metadata": {},
   "source": [
    "# Question 07\n",
    "Create a Markdown cell in jupyter and list the steps discussed in the session by Dr. Darshan Ingle sir to create Github profile and upload Githubs Assignment link.\n",
    "\n",
    "Step 01: Go to Github & click on New button\n",
    "Step 02: Click on Create button and Enter the Repository Name \"LetsUpgarde AI-ML\"\n",
    "Step 31: Enter the Description like \"Daily Assignemnt\"\n",
    "Step 04: Don't click on any where and final click on Create button\n",
    "Step 05: Click on Upload an Existing File link\n",
    "Step 06: --Go to saved daily assignment folder \n",
    "Step 07: Drag and drop you daily assignment folder in or file\n",
    "Step 08: Afyer uploading do not do anything or any changes\n",
    "Step 09: Just click on commit changes button"
   ]
  }
 ],
 "metadata": {
  "celltoolbar": "Raw Cell Format",
  "kernelspec": {
   "display_name": "Python 3",
   "language": "python",
   "name": "python3"
  },
  "language_info": {
   "codemirror_mode": {
    "name": "ipython",
    "version": 3
   },
   "file_extension": ".py",
   "mimetype": "text/x-python",
   "name": "python",
   "nbconvert_exporter": "python",
   "pygments_lexer": "ipython3",
   "version": "3.7.6"
  }
 },
 "nbformat": 4,
 "nbformat_minor": 4
}
